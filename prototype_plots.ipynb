{
 "cells": [
  {
   "cell_type": "code",
   "execution_count": 38,
   "metadata": {},
   "outputs": [],
   "source": [
    "import matplotlib\n",
    "import seaborn as sns\n",
    "import pandas as pd\n",
    "from matplotlib import pyplot as plt"
   ]
  },
  {
   "cell_type": "code",
   "execution_count": 8,
   "metadata": {},
   "outputs": [],
   "source": [
    "effect_names = ['waterflow']\n",
    "columns = ['exp_id']\n",
    "columns.extend([eff + '_sign' for eff in effect_names])\n",
    "columns.extend([eff + '_size' for eff in effect_names])\n",
    "columns.extend(['treatment_type', 'influence'])"
   ]
  },
  {
   "cell_type": "code",
   "execution_count": 60,
   "metadata": {},
   "outputs": [
    {
     "name": "stderr",
     "output_type": "stream",
     "text": [
      "/home/bogdan/Workspace/dv/venv/lib/python3.6/site-packages/pandas/core/indexing.py:1472: FutureWarning: \n",
      "Passing list-likes to .loc or [] with any missing label will raise\n",
      "KeyError in the future, you can use .reindex() as an alternative.\n",
      "\n",
      "See the documentation here:\n",
      "https://pandas.pydata.org/pandas-docs/stable/indexing.html#deprecate-loc-reindex-listlike\n",
      "  return self._getitem_tuple(key)\n"
     ]
    }
   ],
   "source": [
    "data = pd.DataFrame(columns=columns)\n",
    "data = data.append([\n",
    "    {\n",
    "        'waterflow_sign': +1,\n",
    "        'waterflow_size': 21.1,\n",
    "        'treatment_type': 'deforestation',\n",
    "        'influence': 6\n",
    "    },\n",
    "    {\n",
    "        'waterflow_sign': +1,\n",
    "        'waterflow_size': 5.1,\n",
    "        'treatment_type': 'deforestation',\n",
    "        'influence': 3.2\n",
    "    },\n",
    "    {\n",
    "        'waterflow_sign': 0,\n",
    "        'waterflow_size': 2.1,\n",
    "        'treatment_type': 'deforestation',\n",
    "        'influence': 5\n",
    "    },\n",
    "    {\n",
    "        'waterflow_sign': 0,\n",
    "        'waterflow_size': 1.2,\n",
    "        'treatment_type': 'deforestation',\n",
    "        'influence': 20\n",
    "    },\n",
    "    {\n",
    "        'waterflow_sign': -1,\n",
    "        'waterflow_size': -1.2,\n",
    "        'treatment_type': 'deforestation',\n",
    "        'influence': 7\n",
    "    },\n",
    "    \n",
    "       {\n",
    "        'waterflow_sign': +1,\n",
    "        'waterflow_size': 32.2,\n",
    "        'treatment_type': 'concrete',\n",
    "        'influence': 6\n",
    "    },\n",
    "    {\n",
    "        'waterflow_sign': +1,\n",
    "        'waterflow_size': 12.2,\n",
    "        'treatment_type': 'concrete',\n",
    "        'influence': 3.2\n",
    "    },\n",
    "    {\n",
    "        'waterflow_sign': 0,\n",
    "        'waterflow_size': -0.5,\n",
    "        'treatment_type': 'concrete',\n",
    "        'influence': 5\n",
    "    },\n",
    "    {\n",
    "        'waterflow_sign': 0,\n",
    "        'waterflow_size': 0.1,\n",
    "        'treatment_type': 'concrete',\n",
    "        'influence': 20\n",
    "    },\n",
    "])"
   ]
  },
  {
   "cell_type": "code",
   "execution_count": 61,
   "metadata": {},
   "outputs": [],
   "source": [
    "plt.rc('text', usetex=True)\n",
    "plt.rc('font', family='sans-serif')\n",
    "plt.rc('pdf', fonttype=42)\n",
    "plt.rc('ps', fonttype=42)\n",
    "\n",
    "matplotlib.rcParams['text.latex.preamble'] = [\n",
    "#       r'\\usepackage{helvet}',\n",
    "       r'\\usepackage{siunitx}',\n",
    "       r'\\sisetup{detect-all}',\n",
    "       r'\\usepackage{sansmath}',\n",
    "       r'\\sansmath'\n",
    "]\n",
    "\n",
    "sns.set_context('notebook', font_scale=2.5)"
   ]
  },
  {
   "cell_type": "code",
   "execution_count": 97,
   "metadata": {},
   "outputs": [
    {
     "data": {
      "image/png": "[encoded data removed]",
      "text/plain": [
       "<Figure size 360x288 with 1 Axes>"
      ]
     },
     "metadata": {},
     "output_type": "display_data"
    }
   ],
   "source": [
    "fig, ax = plt.subplots()\n",
    "\n",
    "sns.despine(ax=ax)\n",
    "sns.swarmplot(data=data,\n",
    "              y='waterflow_size',\n",
    "              x='treatment_type',\n",
    "              hue='influence',\n",
    "              palette=sns.color_palette(\"ch:2.5,-.2,dark=.3\"),\n",
    "              size=15,\n",
    "              ax=ax,\n",
    "             )\n",
    "ax.set_xlabel('')\n",
    "ax.set_ylabel('')\n",
    "ax.set_xticklabels(ax.get_xticklabels(), rotation=0)\n",
    "ax.get_legend().remove()\n",
    "\n",
    "fig.set_figwidth(5)"
   ]
  }
 ],
 "metadata": {
  "kernelspec": {
   "display_name": "Python 3",
   "language": "python",
   "name": "python3"
  }
 },
 "nbformat": 4,
 "nbformat_minor": 2
}
